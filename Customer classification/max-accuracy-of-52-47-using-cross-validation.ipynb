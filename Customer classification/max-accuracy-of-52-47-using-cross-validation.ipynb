{
 "cells": [
  {
   "cell_type": "code",
   "execution_count": 5,
   "metadata": {
    "ExecuteTime": {
     "end_time": "2021-12-26T18:33:40.522784Z",
     "start_time": "2021-12-26T18:33:40.514189Z"
    },
    "_cell_guid": "b1076dfc-b9ad-4769-8c92-a6c4dae69d19",
    "_uuid": "8f2839f25d086af736a60e9eeb907d3b93b6e0e5",
    "execution": {
     "iopub.execute_input": "2021-12-26T17:22:37.753930Z",
     "iopub.status.busy": "2021-12-26T17:22:37.753318Z",
     "iopub.status.idle": "2021-12-26T17:22:37.797984Z",
     "shell.execute_reply": "2021-12-26T17:22:37.797152Z",
     "shell.execute_reply.started": "2021-12-26T17:22:37.753831Z"
    }
   },
   "outputs": [],
   "source": [
    "# This Python 3 environment comes with many helpful analytics libraries installed\n",
    "# It is defined by the kaggle/python Docker image: https://github.com/kaggle/docker-python\n",
    "# For example, here's several helpful packages to load\n",
    "\n",
    "import numpy as np # linear algebra\n",
    "import pandas as pd # data processing, CSV file I/O (e.g. pd.read_csv)\n",
    "\n",
    "# Input data files are available in the read-only \"../input/\" directory\n",
    "# For example, running this (by clicking run or pressing Shift+Enter) will list all files under the input directory\n",
    "\n",
    "import os\n",
    "for dirname, _, filenames in os.walk('/kaggle/input'):\n",
    "    for filename in filenames:\n",
    "        print(os.path.join(dirname, filename))\n",
    "\n",
    "# You can write up to 20GB to the current directory (/kaggle/working/) that gets preserved as output when you create a version using \"Save & Run All\" \n",
    "# You can also write temporary files to /kaggle/temp/, but they won't be saved outside of the current session"
   ]
  },
  {
   "cell_type": "markdown",
   "metadata": {},
   "source": [
    "__Import the libraries__"
   ]
  },
  {
   "cell_type": "code",
   "execution_count": 6,
   "metadata": {
    "ExecuteTime": {
     "end_time": "2021-12-26T18:33:40.547587Z",
     "start_time": "2021-12-26T18:33:40.527997Z"
    },
    "execution": {
     "iopub.execute_input": "2021-12-26T17:22:37.799819Z",
     "iopub.status.busy": "2021-12-26T17:22:37.799533Z",
     "iopub.status.idle": "2021-12-26T17:22:39.231432Z",
     "shell.execute_reply": "2021-12-26T17:22:39.230618Z",
     "shell.execute_reply.started": "2021-12-26T17:22:37.799789Z"
    }
   },
   "outputs": [],
   "source": [
    "import numpy as np \n",
    "import pandas as pd \n",
    "import matplotlib.pyplot as plt\n",
    "import seaborn as sns\n",
    "\n",
    "\n",
    "from sklearn.model_selection import train_test_split\n",
    "from sklearn.linear_model import LogisticRegression\n",
    "from sklearn.tree import DecisionTreeClassifier\n",
    "from sklearn.ensemble import RandomForestClassifier\n",
    "from sklearn.naive_bayes import GaussianNB\n",
    "from sklearn.neighbors import KNeighborsClassifier\n",
    "from sklearn.svm import SVC\n",
    "from sklearn.metrics import accuracy_score,classification_report,confusion_matrix\n",
    "from sklearn.preprocessing import LabelEncoder\n",
    "from sklearn.model_selection import cross_val_score\n",
    "from sklearn.preprocessing import LabelEncoder"
   ]
  },
  {
   "cell_type": "code",
   "execution_count": 7,
   "metadata": {
    "ExecuteTime": {
     "end_time": "2021-12-26T18:33:40.592941Z",
     "start_time": "2021-12-26T18:33:40.551856Z"
    },
    "execution": {
     "iopub.execute_input": "2021-12-26T17:22:39.232972Z",
     "iopub.status.busy": "2021-12-26T17:22:39.232715Z",
     "iopub.status.idle": "2021-12-26T17:22:39.290142Z",
     "shell.execute_reply": "2021-12-26T17:22:39.289527Z",
     "shell.execute_reply.started": "2021-12-26T17:22:39.232940Z"
    }
   },
   "outputs": [
    {
     "data": {
      "text/html": [
       "<div>\n",
       "<style scoped>\n",
       "    .dataframe tbody tr th:only-of-type {\n",
       "        vertical-align: middle;\n",
       "    }\n",
       "\n",
       "    .dataframe tbody tr th {\n",
       "        vertical-align: top;\n",
       "    }\n",
       "\n",
       "    .dataframe thead th {\n",
       "        text-align: right;\n",
       "    }\n",
       "</style>\n",
       "<table border=\"1\" class=\"dataframe\">\n",
       "  <thead>\n",
       "    <tr style=\"text-align: right;\">\n",
       "      <th></th>\n",
       "      <th>ID</th>\n",
       "      <th>Gender</th>\n",
       "      <th>Ever_Married</th>\n",
       "      <th>Age</th>\n",
       "      <th>Graduated</th>\n",
       "      <th>Profession</th>\n",
       "      <th>Work_Experience</th>\n",
       "      <th>Spending_Score</th>\n",
       "      <th>Family_Size</th>\n",
       "      <th>Var_1</th>\n",
       "      <th>Segmentation</th>\n",
       "    </tr>\n",
       "  </thead>\n",
       "  <tbody>\n",
       "    <tr>\n",
       "      <th>0</th>\n",
       "      <td>462809</td>\n",
       "      <td>Male</td>\n",
       "      <td>No</td>\n",
       "      <td>22</td>\n",
       "      <td>No</td>\n",
       "      <td>Healthcare</td>\n",
       "      <td>1.0</td>\n",
       "      <td>Low</td>\n",
       "      <td>4.0</td>\n",
       "      <td>Cat_4</td>\n",
       "      <td>D</td>\n",
       "    </tr>\n",
       "    <tr>\n",
       "      <th>1</th>\n",
       "      <td>462643</td>\n",
       "      <td>Female</td>\n",
       "      <td>Yes</td>\n",
       "      <td>38</td>\n",
       "      <td>Yes</td>\n",
       "      <td>Engineer</td>\n",
       "      <td>NaN</td>\n",
       "      <td>Average</td>\n",
       "      <td>3.0</td>\n",
       "      <td>Cat_4</td>\n",
       "      <td>A</td>\n",
       "    </tr>\n",
       "    <tr>\n",
       "      <th>2</th>\n",
       "      <td>466315</td>\n",
       "      <td>Female</td>\n",
       "      <td>Yes</td>\n",
       "      <td>67</td>\n",
       "      <td>Yes</td>\n",
       "      <td>Engineer</td>\n",
       "      <td>1.0</td>\n",
       "      <td>Low</td>\n",
       "      <td>1.0</td>\n",
       "      <td>Cat_6</td>\n",
       "      <td>B</td>\n",
       "    </tr>\n",
       "    <tr>\n",
       "      <th>3</th>\n",
       "      <td>461735</td>\n",
       "      <td>Male</td>\n",
       "      <td>Yes</td>\n",
       "      <td>67</td>\n",
       "      <td>Yes</td>\n",
       "      <td>Lawyer</td>\n",
       "      <td>0.0</td>\n",
       "      <td>High</td>\n",
       "      <td>2.0</td>\n",
       "      <td>Cat_6</td>\n",
       "      <td>B</td>\n",
       "    </tr>\n",
       "    <tr>\n",
       "      <th>4</th>\n",
       "      <td>462669</td>\n",
       "      <td>Female</td>\n",
       "      <td>Yes</td>\n",
       "      <td>40</td>\n",
       "      <td>Yes</td>\n",
       "      <td>Entertainment</td>\n",
       "      <td>NaN</td>\n",
       "      <td>High</td>\n",
       "      <td>6.0</td>\n",
       "      <td>Cat_6</td>\n",
       "      <td>A</td>\n",
       "    </tr>\n",
       "  </tbody>\n",
       "</table>\n",
       "</div>"
      ],
      "text/plain": [
       "       ID  Gender Ever_Married  Age Graduated     Profession  Work_Experience  \\\n",
       "0  462809    Male           No   22        No     Healthcare              1.0   \n",
       "1  462643  Female          Yes   38       Yes       Engineer              NaN   \n",
       "2  466315  Female          Yes   67       Yes       Engineer              1.0   \n",
       "3  461735    Male          Yes   67       Yes         Lawyer              0.0   \n",
       "4  462669  Female          Yes   40       Yes  Entertainment              NaN   \n",
       "\n",
       "  Spending_Score  Family_Size  Var_1 Segmentation  \n",
       "0            Low          4.0  Cat_4            D  \n",
       "1        Average          3.0  Cat_4            A  \n",
       "2            Low          1.0  Cat_6            B  \n",
       "3           High          2.0  Cat_6            B  \n",
       "4           High          6.0  Cat_6            A  "
      ]
     },
     "execution_count": 7,
     "metadata": {},
     "output_type": "execute_result"
    }
   ],
   "source": [
    "train = pd.read_csv('Train.csv')\n",
    "train.head()"
   ]
  },
  {
   "cell_type": "markdown",
   "metadata": {},
   "source": [
    "__Checking for Datatypes__"
   ]
  },
  {
   "cell_type": "code",
   "execution_count": 8,
   "metadata": {
    "ExecuteTime": {
     "end_time": "2021-12-26T18:33:40.615920Z",
     "start_time": "2021-12-26T18:33:40.599096Z"
    },
    "execution": {
     "iopub.execute_input": "2021-12-26T17:22:39.291694Z",
     "iopub.status.busy": "2021-12-26T17:22:39.291460Z",
     "iopub.status.idle": "2021-12-26T17:22:39.321106Z",
     "shell.execute_reply": "2021-12-26T17:22:39.320295Z",
     "shell.execute_reply.started": "2021-12-26T17:22:39.291664Z"
    }
   },
   "outputs": [
    {
     "name": "stdout",
     "output_type": "stream",
     "text": [
      "<class 'pandas.core.frame.DataFrame'>\n",
      "RangeIndex: 8068 entries, 0 to 8067\n",
      "Data columns (total 11 columns):\n",
      " #   Column           Non-Null Count  Dtype  \n",
      "---  ------           --------------  -----  \n",
      " 0   ID               8068 non-null   int64  \n",
      " 1   Gender           8068 non-null   object \n",
      " 2   Ever_Married     7928 non-null   object \n",
      " 3   Age              8068 non-null   int64  \n",
      " 4   Graduated        7990 non-null   object \n",
      " 5   Profession       7944 non-null   object \n",
      " 6   Work_Experience  7239 non-null   float64\n",
      " 7   Spending_Score   8068 non-null   object \n",
      " 8   Family_Size      7733 non-null   float64\n",
      " 9   Var_1            7992 non-null   object \n",
      " 10  Segmentation     8068 non-null   object \n",
      "dtypes: float64(2), int64(2), object(7)\n",
      "memory usage: 693.5+ KB\n"
     ]
    }
   ],
   "source": [
    "train.info()"
   ]
  },
  {
   "cell_type": "markdown",
   "metadata": {},
   "source": [
    "**Checking for Descriptive statistics using the Describe method**"
   ]
  },
  {
   "cell_type": "code",
   "execution_count": 9,
   "metadata": {
    "ExecuteTime": {
     "end_time": "2021-12-26T18:33:40.680707Z",
     "start_time": "2021-12-26T18:33:40.618313Z"
    },
    "execution": {
     "iopub.execute_input": "2021-12-26T17:22:39.324385Z",
     "iopub.status.busy": "2021-12-26T17:22:39.323865Z",
     "iopub.status.idle": "2021-12-26T17:22:39.381752Z",
     "shell.execute_reply": "2021-12-26T17:22:39.380790Z",
     "shell.execute_reply.started": "2021-12-26T17:22:39.324341Z"
    }
   },
   "outputs": [
    {
     "data": {
      "text/html": [
       "<div>\n",
       "<style scoped>\n",
       "    .dataframe tbody tr th:only-of-type {\n",
       "        vertical-align: middle;\n",
       "    }\n",
       "\n",
       "    .dataframe tbody tr th {\n",
       "        vertical-align: top;\n",
       "    }\n",
       "\n",
       "    .dataframe thead th {\n",
       "        text-align: right;\n",
       "    }\n",
       "</style>\n",
       "<table border=\"1\" class=\"dataframe\">\n",
       "  <thead>\n",
       "    <tr style=\"text-align: right;\">\n",
       "      <th></th>\n",
       "      <th>count</th>\n",
       "      <th>unique</th>\n",
       "      <th>top</th>\n",
       "      <th>freq</th>\n",
       "      <th>mean</th>\n",
       "      <th>std</th>\n",
       "      <th>min</th>\n",
       "      <th>25%</th>\n",
       "      <th>50%</th>\n",
       "      <th>75%</th>\n",
       "      <th>max</th>\n",
       "    </tr>\n",
       "  </thead>\n",
       "  <tbody>\n",
       "    <tr>\n",
       "      <th>ID</th>\n",
       "      <td>8068</td>\n",
       "      <td>NaN</td>\n",
       "      <td>NaN</td>\n",
       "      <td>NaN</td>\n",
       "      <td>463479</td>\n",
       "      <td>2595.38</td>\n",
       "      <td>458982</td>\n",
       "      <td>461241</td>\n",
       "      <td>463472</td>\n",
       "      <td>465744</td>\n",
       "      <td>467974</td>\n",
       "    </tr>\n",
       "    <tr>\n",
       "      <th>Gender</th>\n",
       "      <td>8068</td>\n",
       "      <td>2</td>\n",
       "      <td>Male</td>\n",
       "      <td>4417</td>\n",
       "      <td>NaN</td>\n",
       "      <td>NaN</td>\n",
       "      <td>NaN</td>\n",
       "      <td>NaN</td>\n",
       "      <td>NaN</td>\n",
       "      <td>NaN</td>\n",
       "      <td>NaN</td>\n",
       "    </tr>\n",
       "    <tr>\n",
       "      <th>Ever_Married</th>\n",
       "      <td>7928</td>\n",
       "      <td>2</td>\n",
       "      <td>Yes</td>\n",
       "      <td>4643</td>\n",
       "      <td>NaN</td>\n",
       "      <td>NaN</td>\n",
       "      <td>NaN</td>\n",
       "      <td>NaN</td>\n",
       "      <td>NaN</td>\n",
       "      <td>NaN</td>\n",
       "      <td>NaN</td>\n",
       "    </tr>\n",
       "    <tr>\n",
       "      <th>Age</th>\n",
       "      <td>8068</td>\n",
       "      <td>NaN</td>\n",
       "      <td>NaN</td>\n",
       "      <td>NaN</td>\n",
       "      <td>43.4669</td>\n",
       "      <td>16.7117</td>\n",
       "      <td>18</td>\n",
       "      <td>30</td>\n",
       "      <td>40</td>\n",
       "      <td>53</td>\n",
       "      <td>89</td>\n",
       "    </tr>\n",
       "    <tr>\n",
       "      <th>Graduated</th>\n",
       "      <td>7990</td>\n",
       "      <td>2</td>\n",
       "      <td>Yes</td>\n",
       "      <td>4968</td>\n",
       "      <td>NaN</td>\n",
       "      <td>NaN</td>\n",
       "      <td>NaN</td>\n",
       "      <td>NaN</td>\n",
       "      <td>NaN</td>\n",
       "      <td>NaN</td>\n",
       "      <td>NaN</td>\n",
       "    </tr>\n",
       "    <tr>\n",
       "      <th>Profession</th>\n",
       "      <td>7944</td>\n",
       "      <td>9</td>\n",
       "      <td>Artist</td>\n",
       "      <td>2516</td>\n",
       "      <td>NaN</td>\n",
       "      <td>NaN</td>\n",
       "      <td>NaN</td>\n",
       "      <td>NaN</td>\n",
       "      <td>NaN</td>\n",
       "      <td>NaN</td>\n",
       "      <td>NaN</td>\n",
       "    </tr>\n",
       "    <tr>\n",
       "      <th>Work_Experience</th>\n",
       "      <td>7239</td>\n",
       "      <td>NaN</td>\n",
       "      <td>NaN</td>\n",
       "      <td>NaN</td>\n",
       "      <td>2.64166</td>\n",
       "      <td>3.40676</td>\n",
       "      <td>0</td>\n",
       "      <td>0</td>\n",
       "      <td>1</td>\n",
       "      <td>4</td>\n",
       "      <td>14</td>\n",
       "    </tr>\n",
       "    <tr>\n",
       "      <th>Spending_Score</th>\n",
       "      <td>8068</td>\n",
       "      <td>3</td>\n",
       "      <td>Low</td>\n",
       "      <td>4878</td>\n",
       "      <td>NaN</td>\n",
       "      <td>NaN</td>\n",
       "      <td>NaN</td>\n",
       "      <td>NaN</td>\n",
       "      <td>NaN</td>\n",
       "      <td>NaN</td>\n",
       "      <td>NaN</td>\n",
       "    </tr>\n",
       "    <tr>\n",
       "      <th>Family_Size</th>\n",
       "      <td>7733</td>\n",
       "      <td>NaN</td>\n",
       "      <td>NaN</td>\n",
       "      <td>NaN</td>\n",
       "      <td>2.85012</td>\n",
       "      <td>1.53141</td>\n",
       "      <td>1</td>\n",
       "      <td>2</td>\n",
       "      <td>3</td>\n",
       "      <td>4</td>\n",
       "      <td>9</td>\n",
       "    </tr>\n",
       "    <tr>\n",
       "      <th>Var_1</th>\n",
       "      <td>7992</td>\n",
       "      <td>7</td>\n",
       "      <td>Cat_6</td>\n",
       "      <td>5238</td>\n",
       "      <td>NaN</td>\n",
       "      <td>NaN</td>\n",
       "      <td>NaN</td>\n",
       "      <td>NaN</td>\n",
       "      <td>NaN</td>\n",
       "      <td>NaN</td>\n",
       "      <td>NaN</td>\n",
       "    </tr>\n",
       "    <tr>\n",
       "      <th>Segmentation</th>\n",
       "      <td>8068</td>\n",
       "      <td>4</td>\n",
       "      <td>D</td>\n",
       "      <td>2268</td>\n",
       "      <td>NaN</td>\n",
       "      <td>NaN</td>\n",
       "      <td>NaN</td>\n",
       "      <td>NaN</td>\n",
       "      <td>NaN</td>\n",
       "      <td>NaN</td>\n",
       "      <td>NaN</td>\n",
       "    </tr>\n",
       "  </tbody>\n",
       "</table>\n",
       "</div>"
      ],
      "text/plain": [
       "                count unique     top  freq     mean      std     min     25%  \\\n",
       "ID               8068    NaN     NaN   NaN   463479  2595.38  458982  461241   \n",
       "Gender           8068      2    Male  4417      NaN      NaN     NaN     NaN   \n",
       "Ever_Married     7928      2     Yes  4643      NaN      NaN     NaN     NaN   \n",
       "Age              8068    NaN     NaN   NaN  43.4669  16.7117      18      30   \n",
       "Graduated        7990      2     Yes  4968      NaN      NaN     NaN     NaN   \n",
       "Profession       7944      9  Artist  2516      NaN      NaN     NaN     NaN   \n",
       "Work_Experience  7239    NaN     NaN   NaN  2.64166  3.40676       0       0   \n",
       "Spending_Score   8068      3     Low  4878      NaN      NaN     NaN     NaN   \n",
       "Family_Size      7733    NaN     NaN   NaN  2.85012  1.53141       1       2   \n",
       "Var_1            7992      7   Cat_6  5238      NaN      NaN     NaN     NaN   \n",
       "Segmentation     8068      4       D  2268      NaN      NaN     NaN     NaN   \n",
       "\n",
       "                    50%     75%     max  \n",
       "ID               463472  465744  467974  \n",
       "Gender              NaN     NaN     NaN  \n",
       "Ever_Married        NaN     NaN     NaN  \n",
       "Age                  40      53      89  \n",
       "Graduated           NaN     NaN     NaN  \n",
       "Profession          NaN     NaN     NaN  \n",
       "Work_Experience       1       4      14  \n",
       "Spending_Score      NaN     NaN     NaN  \n",
       "Family_Size           3       4       9  \n",
       "Var_1               NaN     NaN     NaN  \n",
       "Segmentation        NaN     NaN     NaN  "
      ]
     },
     "execution_count": 9,
     "metadata": {},
     "output_type": "execute_result"
    }
   ],
   "source": [
    "train.describe(include='all').T"
   ]
  },
  {
   "cell_type": "markdown",
   "metadata": {},
   "source": [
    "**Checking for column names**"
   ]
  },
  {
   "cell_type": "code",
   "execution_count": 10,
   "metadata": {
    "ExecuteTime": {
     "end_time": "2021-12-26T18:33:40.694504Z",
     "start_time": "2021-12-26T18:33:40.684902Z"
    },
    "execution": {
     "iopub.execute_input": "2021-12-26T17:22:39.383917Z",
     "iopub.status.busy": "2021-12-26T17:22:39.383421Z",
     "iopub.status.idle": "2021-12-26T17:22:39.389508Z",
     "shell.execute_reply": "2021-12-26T17:22:39.388673Z",
     "shell.execute_reply.started": "2021-12-26T17:22:39.383872Z"
    }
   },
   "outputs": [
    {
     "name": "stdout",
     "output_type": "stream",
     "text": [
      "['ID', 'Gender', 'Ever_Married', 'Age', 'Graduated', 'Profession', 'Work_Experience', 'Spending_Score', 'Family_Size', 'Var_1', 'Segmentation']\n"
     ]
    }
   ],
   "source": [
    "print(train.columns.to_list())"
   ]
  },
  {
   "cell_type": "markdown",
   "metadata": {},
   "source": [
    "**Exploratory Data Analysis**"
   ]
  },
  {
   "cell_type": "code",
   "execution_count": 11,
   "metadata": {
    "ExecuteTime": {
     "end_time": "2021-12-26T18:33:40.731166Z",
     "start_time": "2021-12-26T18:33:40.697092Z"
    },
    "execution": {
     "iopub.execute_input": "2021-12-26T17:22:39.391491Z",
     "iopub.status.busy": "2021-12-26T17:22:39.391020Z",
     "iopub.status.idle": "2021-12-26T17:22:39.418074Z",
     "shell.execute_reply": "2021-12-26T17:22:39.417270Z",
     "shell.execute_reply.started": "2021-12-26T17:22:39.391451Z"
    }
   },
   "outputs": [
    {
     "data": {
      "text/html": [
       "<div>\n",
       "<style scoped>\n",
       "    .dataframe tbody tr th:only-of-type {\n",
       "        vertical-align: middle;\n",
       "    }\n",
       "\n",
       "    .dataframe tbody tr th {\n",
       "        vertical-align: top;\n",
       "    }\n",
       "\n",
       "    .dataframe thead th {\n",
       "        text-align: right;\n",
       "    }\n",
       "</style>\n",
       "<table border=\"1\" class=\"dataframe\">\n",
       "  <thead>\n",
       "    <tr style=\"text-align: right;\">\n",
       "      <th></th>\n",
       "      <th>Age</th>\n",
       "      <th>Work_Experience</th>\n",
       "      <th>Family_Size</th>\n",
       "    </tr>\n",
       "    <tr>\n",
       "      <th>Segmentation</th>\n",
       "      <th></th>\n",
       "      <th></th>\n",
       "      <th></th>\n",
       "    </tr>\n",
       "  </thead>\n",
       "  <tbody>\n",
       "    <tr>\n",
       "      <th>A</th>\n",
       "      <td>44.924949</td>\n",
       "      <td>2.874578</td>\n",
       "      <td>2.439531</td>\n",
       "    </tr>\n",
       "    <tr>\n",
       "      <th>B</th>\n",
       "      <td>48.200215</td>\n",
       "      <td>2.378151</td>\n",
       "      <td>2.696970</td>\n",
       "    </tr>\n",
       "    <tr>\n",
       "      <th>C</th>\n",
       "      <td>49.144162</td>\n",
       "      <td>2.240771</td>\n",
       "      <td>2.974559</td>\n",
       "    </tr>\n",
       "    <tr>\n",
       "      <th>D</th>\n",
       "      <td>33.390212</td>\n",
       "      <td>3.021717</td>\n",
       "      <td>3.232624</td>\n",
       "    </tr>\n",
       "  </tbody>\n",
       "</table>\n",
       "</div>"
      ],
      "text/plain": [
       "                    Age  Work_Experience  Family_Size\n",
       "Segmentation                                         \n",
       "A             44.924949         2.874578     2.439531\n",
       "B             48.200215         2.378151     2.696970\n",
       "C             49.144162         2.240771     2.974559\n",
       "D             33.390212         3.021717     3.232624"
      ]
     },
     "execution_count": 11,
     "metadata": {},
     "output_type": "execute_result"
    }
   ],
   "source": [
    "# check for segmentation columns\n",
    "train.groupby('Segmentation')[[ 'Age','Work_Experience','Family_Size', 'Var_1']].agg('mean')"
   ]
  },
  {
   "cell_type": "code",
   "execution_count": 12,
   "metadata": {
    "ExecuteTime": {
     "end_time": "2021-12-26T18:33:40.966239Z",
     "start_time": "2021-12-26T18:33:40.733919Z"
    },
    "execution": {
     "iopub.execute_input": "2021-12-26T17:22:39.419487Z",
     "iopub.status.busy": "2021-12-26T17:22:39.419250Z",
     "iopub.status.idle": "2021-12-26T17:22:39.717340Z",
     "shell.execute_reply": "2021-12-26T17:22:39.716354Z",
     "shell.execute_reply.started": "2021-12-26T17:22:39.419459Z"
    }
   },
   "outputs": [
    {
     "data": {
      "text/plain": [
       "<AxesSubplot:xlabel='Segmentation'>"
      ]
     },
     "execution_count": 12,
     "metadata": {},
     "output_type": "execute_result"
    },
    {
     "data": {
      "image/png": "[encoded data removed]",
      "text/plain": [
       "<Figure size 432x288 with 1 Axes>"
      ]
     },
     "metadata": {
      "needs_background": "light"
     },
     "output_type": "display_data"
    }
   ],
   "source": [
    "#plot\n",
    "plt.style.use('seaborn-dark-palette')\n",
    "train.groupby('Segmentation')[[ 'Age','Work_Experience','Family_Size', 'Var_1']].agg('mean').plot(kind = 'bar')"
   ]
  },
  {
   "cell_type": "code",
   "execution_count": 13,
   "metadata": {
    "ExecuteTime": {
     "end_time": "2021-12-26T18:33:40.983381Z",
     "start_time": "2021-12-26T18:33:40.970030Z"
    },
    "execution": {
     "iopub.execute_input": "2021-12-26T17:22:39.718697Z",
     "iopub.status.busy": "2021-12-26T17:22:39.718475Z",
     "iopub.status.idle": "2021-12-26T17:22:39.736045Z",
     "shell.execute_reply": "2021-12-26T17:22:39.735346Z",
     "shell.execute_reply.started": "2021-12-26T17:22:39.718670Z"
    }
   },
   "outputs": [
    {
     "data": {
      "text/html": [
       "<div>\n",
       "<style scoped>\n",
       "    .dataframe tbody tr th:only-of-type {\n",
       "        vertical-align: middle;\n",
       "    }\n",
       "\n",
       "    .dataframe tbody tr th {\n",
       "        vertical-align: top;\n",
       "    }\n",
       "\n",
       "    .dataframe thead th {\n",
       "        text-align: right;\n",
       "    }\n",
       "</style>\n",
       "<table border=\"1\" class=\"dataframe\">\n",
       "  <thead>\n",
       "    <tr style=\"text-align: right;\">\n",
       "      <th></th>\n",
       "      <th>Age</th>\n",
       "      <th>Work_Experience</th>\n",
       "      <th>Family_Size</th>\n",
       "    </tr>\n",
       "    <tr>\n",
       "      <th>Gender</th>\n",
       "      <th></th>\n",
       "      <th></th>\n",
       "      <th></th>\n",
       "    </tr>\n",
       "  </thead>\n",
       "  <tbody>\n",
       "    <tr>\n",
       "      <th>Female</th>\n",
       "      <td>42.911531</td>\n",
       "      <td>2.865449</td>\n",
       "      <td>2.755325</td>\n",
       "    </tr>\n",
       "    <tr>\n",
       "      <th>Male</th>\n",
       "      <td>43.925968</td>\n",
       "      <td>2.455741</td>\n",
       "      <td>2.927448</td>\n",
       "    </tr>\n",
       "  </tbody>\n",
       "</table>\n",
       "</div>"
      ],
      "text/plain": [
       "              Age  Work_Experience  Family_Size\n",
       "Gender                                         \n",
       "Female  42.911531         2.865449     2.755325\n",
       "Male    43.925968         2.455741     2.927448"
      ]
     },
     "execution_count": 13,
     "metadata": {},
     "output_type": "execute_result"
    }
   ],
   "source": [
    "# by Gender\n",
    "train.groupby('Gender')[['Age','Work_Experience','Family_Size']].agg('mean')"
   ]
  },
  {
   "cell_type": "code",
   "execution_count": 14,
   "metadata": {
    "ExecuteTime": {
     "end_time": "2021-12-26T18:33:41.183139Z",
     "start_time": "2021-12-26T18:33:40.989027Z"
    },
    "execution": {
     "iopub.execute_input": "2021-12-26T17:22:39.737304Z",
     "iopub.status.busy": "2021-12-26T17:22:39.737073Z",
     "iopub.status.idle": "2021-12-26T17:22:39.970513Z",
     "shell.execute_reply": "2021-12-26T17:22:39.969887Z",
     "shell.execute_reply.started": "2021-12-26T17:22:39.737278Z"
    }
   },
   "outputs": [
    {
     "data": {
      "text/plain": [
       "<AxesSubplot:ylabel='Gender'>"
      ]
     },
     "execution_count": 14,
     "metadata": {},
     "output_type": "execute_result"
    },
    {
     "data": {
      "image/png": "[encoded data removed]",
      "text/plain": [
       "<Figure size 432x288 with 1 Axes>"
      ]
     },
     "metadata": {},
     "output_type": "display_data"
    }
   ],
   "source": [
    "plt.style.use('fivethirtyeight')\n",
    "train.groupby('Gender')[['Age','Work_Experience','Family_Size']].agg('mean').plot(kind = 'barh')"
   ]
  },
  {
   "cell_type": "code",
   "execution_count": 15,
   "metadata": {
    "ExecuteTime": {
     "end_time": "2021-12-26T18:33:41.220987Z",
     "start_time": "2021-12-26T18:33:41.187851Z"
    },
    "execution": {
     "iopub.execute_input": "2021-12-26T17:22:39.972274Z",
     "iopub.status.busy": "2021-12-26T17:22:39.971508Z",
     "iopub.status.idle": "2021-12-26T17:22:39.989744Z",
     "shell.execute_reply": "2021-12-26T17:22:39.988750Z",
     "shell.execute_reply.started": "2021-12-26T17:22:39.972214Z"
    }
   },
   "outputs": [
    {
     "data": {
      "text/html": [
       "<div>\n",
       "<style scoped>\n",
       "    .dataframe tbody tr th:only-of-type {\n",
       "        vertical-align: middle;\n",
       "    }\n",
       "\n",
       "    .dataframe tbody tr th {\n",
       "        vertical-align: top;\n",
       "    }\n",
       "\n",
       "    .dataframe thead th {\n",
       "        text-align: right;\n",
       "    }\n",
       "</style>\n",
       "<table border=\"1\" class=\"dataframe\">\n",
       "  <thead>\n",
       "    <tr style=\"text-align: right;\">\n",
       "      <th></th>\n",
       "      <th></th>\n",
       "      <th>Gender</th>\n",
       "    </tr>\n",
       "    <tr>\n",
       "      <th>Profession</th>\n",
       "      <th>Gender</th>\n",
       "      <th></th>\n",
       "    </tr>\n",
       "  </thead>\n",
       "  <tbody>\n",
       "    <tr>\n",
       "      <th rowspan=\"2\" valign=\"top\">Artist</th>\n",
       "      <th>Female</th>\n",
       "      <td>1213</td>\n",
       "    </tr>\n",
       "    <tr>\n",
       "      <th>Male</th>\n",
       "      <td>1303</td>\n",
       "    </tr>\n",
       "    <tr>\n",
       "      <th rowspan=\"2\" valign=\"top\">Doctor</th>\n",
       "      <th>Female</th>\n",
       "      <td>304</td>\n",
       "    </tr>\n",
       "    <tr>\n",
       "      <th>Male</th>\n",
       "      <td>384</td>\n",
       "    </tr>\n",
       "    <tr>\n",
       "      <th rowspan=\"2\" valign=\"top\">Engineer</th>\n",
       "      <th>Female</th>\n",
       "      <td>559</td>\n",
       "    </tr>\n",
       "    <tr>\n",
       "      <th>Male</th>\n",
       "      <td>140</td>\n",
       "    </tr>\n",
       "    <tr>\n",
       "      <th rowspan=\"2\" valign=\"top\">Entertainment</th>\n",
       "      <th>Female</th>\n",
       "      <td>253</td>\n",
       "    </tr>\n",
       "    <tr>\n",
       "      <th>Male</th>\n",
       "      <td>696</td>\n",
       "    </tr>\n",
       "    <tr>\n",
       "      <th rowspan=\"2\" valign=\"top\">Executive</th>\n",
       "      <th>Female</th>\n",
       "      <td>32</td>\n",
       "    </tr>\n",
       "    <tr>\n",
       "      <th>Male</th>\n",
       "      <td>567</td>\n",
       "    </tr>\n",
       "    <tr>\n",
       "      <th rowspan=\"2\" valign=\"top\">Healthcare</th>\n",
       "      <th>Female</th>\n",
       "      <td>557</td>\n",
       "    </tr>\n",
       "    <tr>\n",
       "      <th>Male</th>\n",
       "      <td>775</td>\n",
       "    </tr>\n",
       "    <tr>\n",
       "      <th rowspan=\"2\" valign=\"top\">Homemaker</th>\n",
       "      <th>Female</th>\n",
       "      <td>203</td>\n",
       "    </tr>\n",
       "    <tr>\n",
       "      <th>Male</th>\n",
       "      <td>43</td>\n",
       "    </tr>\n",
       "    <tr>\n",
       "      <th rowspan=\"2\" valign=\"top\">Lawyer</th>\n",
       "      <th>Female</th>\n",
       "      <td>307</td>\n",
       "    </tr>\n",
       "    <tr>\n",
       "      <th>Male</th>\n",
       "      <td>316</td>\n",
       "    </tr>\n",
       "    <tr>\n",
       "      <th rowspan=\"2\" valign=\"top\">Marketing</th>\n",
       "      <th>Female</th>\n",
       "      <td>164</td>\n",
       "    </tr>\n",
       "    <tr>\n",
       "      <th>Male</th>\n",
       "      <td>128</td>\n",
       "    </tr>\n",
       "  </tbody>\n",
       "</table>\n",
       "</div>"
      ],
      "text/plain": [
       "                      Gender\n",
       "Profession    Gender        \n",
       "Artist        Female    1213\n",
       "              Male      1303\n",
       "Doctor        Female     304\n",
       "              Male       384\n",
       "Engineer      Female     559\n",
       "              Male       140\n",
       "Entertainment Female     253\n",
       "              Male       696\n",
       "Executive     Female      32\n",
       "              Male       567\n",
       "Healthcare    Female     557\n",
       "              Male       775\n",
       "Homemaker     Female     203\n",
       "              Male        43\n",
       "Lawyer        Female     307\n",
       "              Male       316\n",
       "Marketing     Female     164\n",
       "              Male       128"
      ]
     },
     "execution_count": 15,
     "metadata": {},
     "output_type": "execute_result"
    }
   ],
   "source": [
    "# we will check for profession by gender\n",
    "train.groupby(['Profession','Gender'])[['Gender']].count()"
   ]
  },
  {
   "cell_type": "code",
   "execution_count": 16,
   "metadata": {
    "ExecuteTime": {
     "end_time": "2021-12-26T18:33:41.249440Z",
     "start_time": "2021-12-26T18:33:41.227407Z"
    },
    "execution": {
     "iopub.execute_input": "2021-12-26T17:22:39.991215Z",
     "iopub.status.busy": "2021-12-26T17:22:39.990967Z",
     "iopub.status.idle": "2021-12-26T17:22:40.010101Z",
     "shell.execute_reply": "2021-12-26T17:22:40.009301Z",
     "shell.execute_reply.started": "2021-12-26T17:22:39.991186Z"
    }
   },
   "outputs": [
    {
     "data": {
      "text/html": [
       "<div>\n",
       "<style scoped>\n",
       "    .dataframe tbody tr th:only-of-type {\n",
       "        vertical-align: middle;\n",
       "    }\n",
       "\n",
       "    .dataframe tbody tr th {\n",
       "        vertical-align: top;\n",
       "    }\n",
       "\n",
       "    .dataframe thead th {\n",
       "        text-align: right;\n",
       "    }\n",
       "</style>\n",
       "<table border=\"1\" class=\"dataframe\">\n",
       "  <thead>\n",
       "    <tr style=\"text-align: right;\">\n",
       "      <th></th>\n",
       "      <th></th>\n",
       "      <th>Spending_Score</th>\n",
       "    </tr>\n",
       "    <tr>\n",
       "      <th>Gender</th>\n",
       "      <th>Spending_Score</th>\n",
       "      <th></th>\n",
       "    </tr>\n",
       "  </thead>\n",
       "  <tbody>\n",
       "    <tr>\n",
       "      <th rowspan=\"3\" valign=\"top\">Female</th>\n",
       "      <th>Average</th>\n",
       "      <td>831</td>\n",
       "    </tr>\n",
       "    <tr>\n",
       "      <th>High</th>\n",
       "      <td>490</td>\n",
       "    </tr>\n",
       "    <tr>\n",
       "      <th>Low</th>\n",
       "      <td>2330</td>\n",
       "    </tr>\n",
       "    <tr>\n",
       "      <th rowspan=\"3\" valign=\"top\">Male</th>\n",
       "      <th>Average</th>\n",
       "      <td>1143</td>\n",
       "    </tr>\n",
       "    <tr>\n",
       "      <th>High</th>\n",
       "      <td>726</td>\n",
       "    </tr>\n",
       "    <tr>\n",
       "      <th>Low</th>\n",
       "      <td>2548</td>\n",
       "    </tr>\n",
       "  </tbody>\n",
       "</table>\n",
       "</div>"
      ],
      "text/plain": [
       "                       Spending_Score\n",
       "Gender Spending_Score                \n",
       "Female Average                    831\n",
       "       High                       490\n",
       "       Low                       2330\n",
       "Male   Average                   1143\n",
       "       High                       726\n",
       "       Low                       2548"
      ]
     },
     "execution_count": 16,
     "metadata": {},
     "output_type": "execute_result"
    }
   ],
   "source": [
    "# check the spending score by Gender\n",
    "train.groupby(['Gender','Spending_Score'])[['Spending_Score']].count()"
   ]
  },
  {
   "cell_type": "code",
   "execution_count": 17,
   "metadata": {
    "ExecuteTime": {
     "end_time": "2021-12-26T18:33:41.410003Z",
     "start_time": "2021-12-26T18:33:41.254788Z"
    },
    "execution": {
     "iopub.execute_input": "2021-12-26T17:22:40.013362Z",
     "iopub.status.busy": "2021-12-26T17:22:40.013005Z",
     "iopub.status.idle": "2021-12-26T17:22:40.232731Z",
     "shell.execute_reply": "2021-12-26T17:22:40.231799Z",
     "shell.execute_reply.started": "2021-12-26T17:22:40.013310Z"
    }
   },
   "outputs": [
    {
     "data": {
      "text/plain": [
       "<AxesSubplot:ylabel='Gender,Spending_Score'>"
      ]
     },
     "execution_count": 17,
     "metadata": {},
     "output_type": "execute_result"
    },
    {
     "data": {
      "image/png": "[encoded data removed]",
      "text/plain": [
       "<Figure size 432x288 with 1 Axes>"
      ]
     },
     "metadata": {},
     "output_type": "display_data"
    }
   ],
   "source": [
    "train.groupby(['Gender','Spending_Score'])[['Spending_Score']].count().plot(kind = 'barh')"
   ]
  },
  {
   "cell_type": "markdown",
   "metadata": {},
   "source": [
    "__Checking for missing values__"
   ]
  },
  {
   "cell_type": "code",
   "execution_count": 18,
   "metadata": {
    "ExecuteTime": {
     "end_time": "2021-12-26T18:33:41.446006Z",
     "start_time": "2021-12-26T18:33:41.424992Z"
    },
    "execution": {
     "iopub.execute_input": "2021-12-26T17:22:40.237803Z",
     "iopub.status.busy": "2021-12-26T17:22:40.237409Z",
     "iopub.status.idle": "2021-12-26T17:22:40.256703Z",
     "shell.execute_reply": "2021-12-26T17:22:40.255835Z",
     "shell.execute_reply.started": "2021-12-26T17:22:40.237772Z"
    }
   },
   "outputs": [
    {
     "data": {
      "text/plain": [
       "ID                   0\n",
       "Gender               0\n",
       "Ever_Married       140\n",
       "Age                  0\n",
       "Graduated           78\n",
       "Profession         124\n",
       "Work_Experience    829\n",
       "Spending_Score       0\n",
       "Family_Size        335\n",
       "Var_1               76\n",
       "Segmentation         0\n",
       "dtype: int64"
      ]
     },
     "execution_count": 18,
     "metadata": {},
     "output_type": "execute_result"
    }
   ],
   "source": [
    "train.isnull().sum()"
   ]
  },
  {
   "cell_type": "code",
   "execution_count": 19,
   "metadata": {
    "ExecuteTime": {
     "end_time": "2021-12-26T18:33:41.492632Z",
     "start_time": "2021-12-26T18:33:41.457773Z"
    },
    "execution": {
     "iopub.execute_input": "2021-12-26T17:22:40.257931Z",
     "iopub.status.busy": "2021-12-26T17:22:40.257726Z",
     "iopub.status.idle": "2021-12-26T17:22:40.284764Z",
     "shell.execute_reply": "2021-12-26T17:22:40.283776Z",
     "shell.execute_reply.started": "2021-12-26T17:22:40.257906Z"
    }
   },
   "outputs": [
    {
     "data": {
      "text/plain": [
       "ID                 0\n",
       "Gender             0\n",
       "Ever_Married       0\n",
       "Age                0\n",
       "Graduated          0\n",
       "Profession         0\n",
       "Work_Experience    0\n",
       "Spending_Score     0\n",
       "Family_Size        0\n",
       "Var_1              0\n",
       "Segmentation       0\n",
       "dtype: int64"
      ]
     },
     "execution_count": 19,
     "metadata": {},
     "output_type": "execute_result"
    }
   ],
   "source": [
    "# there are missing values in some of the columns so we can drop them \n",
    "train.dropna(axis=0,inplace=True)\n",
    "train.isnull().sum()"
   ]
  },
  {
   "cell_type": "markdown",
   "metadata": {},
   "source": [
    "__Checking for correlation__"
   ]
  },
  {
   "cell_type": "code",
   "execution_count": 20,
   "metadata": {
    "ExecuteTime": {
     "end_time": "2021-12-26T18:33:44.596988Z",
     "start_time": "2021-12-26T18:33:41.495208Z"
    },
    "execution": {
     "iopub.execute_input": "2021-12-26T17:22:40.286717Z",
     "iopub.status.busy": "2021-12-26T17:22:40.286245Z",
     "iopub.status.idle": "2021-12-26T17:22:44.416537Z",
     "shell.execute_reply": "2021-12-26T17:22:44.415619Z",
     "shell.execute_reply.started": "2021-12-26T17:22:40.286677Z"
    }
   },
   "outputs": [
    {
     "data": {
      "text/plain": [
       "<seaborn.axisgrid.PairGrid at 0x7fc337f98390>"
      ]
     },
     "execution_count": 20,
     "metadata": {},
     "output_type": "execute_result"
    },
    {
     "data": {
      "image/png": "[encoded data removed]",
      "text/plain": [
       "<Figure size 720x720 with 20 Axes>"
      ]
     },
     "metadata": {},
     "output_type": "display_data"
    }
   ],
   "source": [
    "plt.style.use('ggplot')\n",
    "sns.pairplot(train)"
   ]
  },
  {
   "cell_type": "code",
   "execution_count": 21,
   "metadata": {
    "ExecuteTime": {
     "end_time": "2021-12-26T18:33:45.040591Z",
     "start_time": "2021-12-26T18:33:44.600486Z"
    },
    "execution": {
     "iopub.execute_input": "2021-12-26T17:22:44.417996Z",
     "iopub.status.busy": "2021-12-26T17:22:44.417711Z",
     "iopub.status.idle": "2021-12-26T17:22:44.731355Z",
     "shell.execute_reply": "2021-12-26T17:22:44.730433Z",
     "shell.execute_reply.started": "2021-12-26T17:22:44.417961Z"
    }
   },
   "outputs": [
    {
     "data": {
      "text/plain": [
       "<AxesSubplot:>"
      ]
     },
     "execution_count": 21,
     "metadata": {},
     "output_type": "execute_result"
    },
    {
     "data": {
      "image/png": "[encoded data removed]",
      "text/plain": [
       "<Figure size 432x288 with 2 Axes>"
      ]
     },
     "metadata": {},
     "output_type": "display_data"
    }
   ],
   "source": [
    "sns.heatmap(train.corr(),annot = True)"
   ]
  },
  {
   "cell_type": "markdown",
   "metadata": {},
   "source": [
    "__Creating Dummy Variables__"
   ]
  },
  {
   "cell_type": "code",
   "execution_count": 22,
   "metadata": {
    "ExecuteTime": {
     "end_time": "2021-12-26T18:33:45.056330Z",
     "start_time": "2021-12-26T18:33:45.042664Z"
    },
    "execution": {
     "iopub.execute_input": "2021-12-26T17:22:44.733242Z",
     "iopub.status.busy": "2021-12-26T17:22:44.732892Z",
     "iopub.status.idle": "2021-12-26T17:22:44.754963Z",
     "shell.execute_reply": "2021-12-26T17:22:44.754281Z",
     "shell.execute_reply.started": "2021-12-26T17:22:44.733184Z"
    }
   },
   "outputs": [
    {
     "name": "stdout",
     "output_type": "stream",
     "text": [
      "['ID', 'Age', 'Work_Experience', 'Family_Size', 'Segmentation', 'Gender_Female', 'Gender_Male', 'Ever_Married_No', 'Ever_Married_Yes', 'Graduated_No', 'Graduated_Yes', 'Profession_Artist', 'Profession_Doctor', 'Profession_Engineer', 'Profession_Entertainment', 'Profession_Executive', 'Profession_Healthcare', 'Profession_Homemaker', 'Profession_Lawyer', 'Profession_Marketing', 'Spending_Score_Average', 'Spending_Score_High', 'Spending_Score_Low', 'Var_1_Cat_1', 'Var_1_Cat_2', 'Var_1_Cat_3', 'Var_1_Cat_4', 'Var_1_Cat_5', 'Var_1_Cat_6', 'Var_1_Cat_7']\n"
     ]
    }
   ],
   "source": [
    "cat = ['Gender', 'Ever_Married', 'Graduated', 'Profession', 'Spending_Score', 'Var_1']\n",
    "df_dummies = pd.get_dummies(train,columns=cat)\n",
    "print(df_dummies.columns.tolist())"
   ]
  },
  {
   "cell_type": "markdown",
   "metadata": {},
   "source": [
    "**Using Label encoder to encode Segmentation column**"
   ]
  },
  {
   "cell_type": "code",
   "execution_count": 23,
   "metadata": {
    "ExecuteTime": {
     "end_time": "2021-12-26T18:33:45.063197Z",
     "start_time": "2021-12-26T18:33:45.058282Z"
    },
    "execution": {
     "iopub.execute_input": "2021-12-26T17:22:44.756847Z",
     "iopub.status.busy": "2021-12-26T17:22:44.756159Z",
     "iopub.status.idle": "2021-12-26T17:22:44.764543Z",
     "shell.execute_reply": "2021-12-26T17:22:44.763557Z",
     "shell.execute_reply.started": "2021-12-26T17:22:44.756804Z"
    }
   },
   "outputs": [],
   "source": [
    "le = LabelEncoder()\n",
    "df_dummies['Segmentation'] = le.fit_transform(df_dummies['Segmentation'])\n"
   ]
  },
  {
   "cell_type": "code",
   "execution_count": 24,
   "metadata": {
    "ExecuteTime": {
     "end_time": "2021-12-26T18:33:45.414939Z",
     "start_time": "2021-12-26T18:33:45.065204Z"
    },
    "execution": {
     "iopub.execute_input": "2021-12-26T17:22:44.767442Z",
     "iopub.status.busy": "2021-12-26T17:22:44.766688Z",
     "iopub.status.idle": "2021-12-26T17:22:45.069765Z",
     "shell.execute_reply": "2021-12-26T17:22:45.068709Z",
     "shell.execute_reply.started": "2021-12-26T17:22:44.767393Z"
    }
   },
   "outputs": [
    {
     "name": "stderr",
     "output_type": "stream",
     "text": [
      "/opt/anaconda3/lib/python3.7/site-packages/pandas/plotting/_matplotlib/tools.py:331: MatplotlibDeprecationWarning: \n",
      "The is_first_col function was deprecated in Matplotlib 3.4 and will be removed two minor releases later. Use ax.get_subplotspec().is_first_col() instead.\n",
      "  if ax.is_first_col():\n"
     ]
    },
    {
     "data": {
      "image/png": "[encoded data removed]",
      "text/plain": [
       "<Figure size 1080x360 with 2 Axes>"
      ]
     },
     "metadata": {},
     "output_type": "display_data"
    }
   ],
   "source": [
    "plt.figure(figsize = (15,5))\n",
    "plt.subplot(1,2,1)\n",
    "train['Segmentation'].value_counts().plot(kind = 'bar')\n",
    "plt.subplot(1,2,2)\n",
    "df_dummies['Segmentation'].value_counts().plot(kind = 'bar')\n",
    "plt.show()"
   ]
  },
  {
   "cell_type": "markdown",
   "metadata": {},
   "source": [
    "__Divide the data into train and test set__"
   ]
  },
  {
   "cell_type": "code",
   "execution_count": 25,
   "metadata": {
    "ExecuteTime": {
     "end_time": "2021-12-26T18:33:45.436203Z",
     "start_time": "2021-12-26T18:33:45.417455Z"
    },
    "execution": {
     "iopub.execute_input": "2021-12-26T17:22:45.071907Z",
     "iopub.status.busy": "2021-12-26T17:22:45.071586Z",
     "iopub.status.idle": "2021-12-26T17:22:45.082876Z",
     "shell.execute_reply": "2021-12-26T17:22:45.081965Z",
     "shell.execute_reply.started": "2021-12-26T17:22:45.071866Z"
    }
   },
   "outputs": [],
   "source": [
    "X = df_dummies.drop(['Segmentation','ID'],axis = 1)\n",
    "y = df_dummies['Segmentation']\n",
    "X_train,X_test,y_train,y_test = train_test_split(X,y,random_state=42,test_size=0.20)"
   ]
  },
  {
   "cell_type": "markdown",
   "metadata": {},
   "source": [
    "**Decision Tree**"
   ]
  },
  {
   "cell_type": "code",
   "execution_count": 26,
   "metadata": {
    "ExecuteTime": {
     "end_time": "2021-12-26T18:33:45.490299Z",
     "start_time": "2021-12-26T18:33:45.440572Z"
    },
    "execution": {
     "iopub.execute_input": "2021-12-26T17:22:45.084535Z",
     "iopub.status.busy": "2021-12-26T17:22:45.083996Z",
     "iopub.status.idle": "2021-12-26T17:22:45.122354Z",
     "shell.execute_reply": "2021-12-26T17:22:45.121389Z",
     "shell.execute_reply.started": "2021-12-26T17:22:45.084502Z"
    }
   },
   "outputs": [
    {
     "name": "stdout",
     "output_type": "stream",
     "text": [
      "The accuracy score for Decision Tree is 44.41 %\n"
     ]
    }
   ],
   "source": [
    "dct = DecisionTreeClassifier()\n",
    "dct.fit(X_train,y_train)\n",
    "y_pred_dct = dct.predict(X_test)\n",
    "print(f\"The accuracy score for Decision Tree is {(accuracy_score(y_test,y_pred_dct)*100).round(2)} %\")"
   ]
  },
  {
   "cell_type": "markdown",
   "metadata": {},
   "source": [
    "__Random Forest__"
   ]
  },
  {
   "cell_type": "code",
   "execution_count": 27,
   "metadata": {
    "ExecuteTime": {
     "end_time": "2021-12-26T18:33:52.438252Z",
     "start_time": "2021-12-26T18:33:45.493216Z"
    },
    "execution": {
     "iopub.execute_input": "2021-12-26T17:22:45.124066Z",
     "iopub.status.busy": "2021-12-26T17:22:45.123761Z",
     "iopub.status.idle": "2021-12-26T17:22:53.036410Z",
     "shell.execute_reply": "2021-12-26T17:22:53.035466Z",
     "shell.execute_reply.started": "2021-12-26T17:22:45.124024Z"
    }
   },
   "outputs": [
    {
     "name": "stdout",
     "output_type": "stream",
     "text": [
      "The accuracy score for Random Forest is 47.94\n"
     ]
    }
   ],
   "source": [
    "rf = RandomForestClassifier(n_estimators=1000)\n",
    "rf.fit(X_train,y_train)\n",
    "y_pred_rf = rf.predict(X_test)\n",
    "print(f\"The accuracy score for Random Forest is {(accuracy_score(y_test,y_pred_rf)*100).round(2)}\")"
   ]
  },
  {
   "cell_type": "markdown",
   "metadata": {},
   "source": [
    "**Using Cross Validation**"
   ]
  },
  {
   "cell_type": "code",
   "execution_count": 28,
   "metadata": {
    "ExecuteTime": {
     "end_time": "2021-12-26T18:33:52.866207Z",
     "start_time": "2021-12-26T18:33:52.441013Z"
    },
    "execution": {
     "iopub.execute_input": "2021-12-26T17:22:53.038139Z",
     "iopub.status.busy": "2021-12-26T17:22:53.037883Z",
     "iopub.status.idle": "2021-12-26T17:22:53.348349Z",
     "shell.execute_reply": "2021-12-26T17:22:53.347351Z",
     "shell.execute_reply.started": "2021-12-26T17:22:53.038108Z"
    }
   },
   "outputs": [
    {
     "name": "stdout",
     "output_type": "stream",
     "text": [
      "10-fold cross validation average accuracy: 43.242 %\n"
     ]
    }
   ],
   "source": [
    "# For decision tree\n",
    "from sklearn.model_selection import cross_val_score\n",
    "scores = cross_val_score(dct, X, y, cv=10)\n",
    "print(f\"10-fold cross validation average accuracy: {(scores.mean()*100).round(3)} %\")"
   ]
  },
  {
   "cell_type": "code",
   "execution_count": 29,
   "metadata": {
    "ExecuteTime": {
     "end_time": "2021-12-26T18:34:55.656446Z",
     "start_time": "2021-12-26T18:33:52.869686Z"
    },
    "execution": {
     "iopub.execute_input": "2021-12-26T17:22:53.350385Z",
     "iopub.status.busy": "2021-12-26T17:22:53.349895Z",
     "iopub.status.idle": "2021-12-26T17:24:16.573689Z",
     "shell.execute_reply": "2021-12-26T17:24:16.572699Z",
     "shell.execute_reply.started": "2021-12-26T17:22:53.350343Z"
    }
   },
   "outputs": [
    {
     "name": "stdout",
     "output_type": "stream",
     "text": [
      "10-fold cross validation average accuracy: 0.485\n"
     ]
    }
   ],
   "source": [
    "# for Random forest\n",
    "from sklearn.model_selection import cross_val_score\n",
    "scores = cross_val_score(rf, X, y, cv=10)\n",
    "print(f\"10-fold cross validation average accuracy: {scores.mean().round(3)}\")"
   ]
  },
  {
   "cell_type": "code",
   "execution_count": 32,
   "metadata": {
    "ExecuteTime": {
     "end_time": "2021-12-26T18:35:25.867234Z",
     "start_time": "2021-12-26T18:35:25.859366Z"
    },
    "execution": {
     "iopub.execute_input": "2021-12-26T17:24:16.575943Z",
     "iopub.status.busy": "2021-12-26T17:24:16.575392Z",
     "iopub.status.idle": "2021-12-26T17:24:16.581822Z",
     "shell.execute_reply": "2021-12-26T17:24:16.580800Z",
     "shell.execute_reply.started": "2021-12-26T17:24:16.575893Z"
    }
   },
   "outputs": [
    {
     "name": "stdout",
     "output_type": "stream",
     "text": [
      "10-fold cross validation max accuracy: 51.95 %\n"
     ]
    }
   ],
   "source": [
    "# max score\n",
    "print(f\"10-fold cross validation max accuracy: {(scores.max() *100).round(2)} %\")"
   ]
  },
  {
   "cell_type": "code",
   "execution_count": 33,
   "metadata": {
    "ExecuteTime": {
     "end_time": "2021-12-26T18:35:25.913066Z",
     "start_time": "2021-12-26T18:35:25.880639Z"
    },
    "execution": {
     "iopub.execute_input": "2021-12-26T17:24:16.583455Z",
     "iopub.status.busy": "2021-12-26T17:24:16.583108Z",
     "iopub.status.idle": "2021-12-26T17:24:16.630584Z",
     "shell.execute_reply": "2021-12-26T17:24:16.629889Z",
     "shell.execute_reply.started": "2021-12-26T17:24:16.583421Z"
    }
   },
   "outputs": [
    {
     "data": {
      "text/html": [
       "<div>\n",
       "<style scoped>\n",
       "    .dataframe tbody tr th:only-of-type {\n",
       "        vertical-align: middle;\n",
       "    }\n",
       "\n",
       "    .dataframe tbody tr th {\n",
       "        vertical-align: top;\n",
       "    }\n",
       "\n",
       "    .dataframe thead th {\n",
       "        text-align: right;\n",
       "    }\n",
       "</style>\n",
       "<table border=\"1\" class=\"dataframe\">\n",
       "  <thead>\n",
       "    <tr style=\"text-align: right;\">\n",
       "      <th></th>\n",
       "      <th>ID</th>\n",
       "      <th>Gender</th>\n",
       "      <th>Ever_Married</th>\n",
       "      <th>Age</th>\n",
       "      <th>Graduated</th>\n",
       "      <th>Profession</th>\n",
       "      <th>Work_Experience</th>\n",
       "      <th>Spending_Score</th>\n",
       "      <th>Family_Size</th>\n",
       "      <th>Var_1</th>\n",
       "      <th>Segmentation</th>\n",
       "    </tr>\n",
       "  </thead>\n",
       "  <tbody>\n",
       "    <tr>\n",
       "      <th>0</th>\n",
       "      <td>458989</td>\n",
       "      <td>Female</td>\n",
       "      <td>Yes</td>\n",
       "      <td>36</td>\n",
       "      <td>Yes</td>\n",
       "      <td>Engineer</td>\n",
       "      <td>0.0</td>\n",
       "      <td>Low</td>\n",
       "      <td>1.0</td>\n",
       "      <td>Cat_6</td>\n",
       "      <td>B</td>\n",
       "    </tr>\n",
       "    <tr>\n",
       "      <th>1</th>\n",
       "      <td>458994</td>\n",
       "      <td>Male</td>\n",
       "      <td>Yes</td>\n",
       "      <td>37</td>\n",
       "      <td>Yes</td>\n",
       "      <td>Healthcare</td>\n",
       "      <td>8.0</td>\n",
       "      <td>Average</td>\n",
       "      <td>4.0</td>\n",
       "      <td>Cat_6</td>\n",
       "      <td>A</td>\n",
       "    </tr>\n",
       "    <tr>\n",
       "      <th>2</th>\n",
       "      <td>458996</td>\n",
       "      <td>Female</td>\n",
       "      <td>Yes</td>\n",
       "      <td>69</td>\n",
       "      <td>No</td>\n",
       "      <td>NaN</td>\n",
       "      <td>0.0</td>\n",
       "      <td>Low</td>\n",
       "      <td>1.0</td>\n",
       "      <td>Cat_6</td>\n",
       "      <td>A</td>\n",
       "    </tr>\n",
       "    <tr>\n",
       "      <th>3</th>\n",
       "      <td>459000</td>\n",
       "      <td>Male</td>\n",
       "      <td>Yes</td>\n",
       "      <td>59</td>\n",
       "      <td>No</td>\n",
       "      <td>Executive</td>\n",
       "      <td>11.0</td>\n",
       "      <td>High</td>\n",
       "      <td>2.0</td>\n",
       "      <td>Cat_6</td>\n",
       "      <td>B</td>\n",
       "    </tr>\n",
       "    <tr>\n",
       "      <th>4</th>\n",
       "      <td>459001</td>\n",
       "      <td>Female</td>\n",
       "      <td>No</td>\n",
       "      <td>19</td>\n",
       "      <td>No</td>\n",
       "      <td>Marketing</td>\n",
       "      <td>NaN</td>\n",
       "      <td>Low</td>\n",
       "      <td>4.0</td>\n",
       "      <td>Cat_6</td>\n",
       "      <td>A</td>\n",
       "    </tr>\n",
       "  </tbody>\n",
       "</table>\n",
       "</div>"
      ],
      "text/plain": [
       "       ID  Gender Ever_Married  Age Graduated  Profession  Work_Experience  \\\n",
       "0  458989  Female          Yes   36       Yes    Engineer              0.0   \n",
       "1  458994    Male          Yes   37       Yes  Healthcare              8.0   \n",
       "2  458996  Female          Yes   69        No         NaN              0.0   \n",
       "3  459000    Male          Yes   59        No   Executive             11.0   \n",
       "4  459001  Female           No   19        No   Marketing              NaN   \n",
       "\n",
       "  Spending_Score  Family_Size  Var_1 Segmentation  \n",
       "0            Low          1.0  Cat_6            B  \n",
       "1        Average          4.0  Cat_6            A  \n",
       "2            Low          1.0  Cat_6            A  \n",
       "3           High          2.0  Cat_6            B  \n",
       "4            Low          4.0  Cat_6            A  "
      ]
     },
     "execution_count": 33,
     "metadata": {},
     "output_type": "execute_result"
    }
   ],
   "source": [
    "test = pd.read_csv(\"Test.csv\")\n",
    "test.head()"
   ]
  },
  {
   "cell_type": "code",
   "execution_count": 34,
   "metadata": {
    "ExecuteTime": {
     "end_time": "2021-12-26T18:35:25.925525Z",
     "start_time": "2021-12-26T18:35:25.918321Z"
    },
    "execution": {
     "iopub.execute_input": "2021-12-26T17:24:16.632333Z",
     "iopub.status.busy": "2021-12-26T17:24:16.631624Z",
     "iopub.status.idle": "2021-12-26T17:24:16.637104Z",
     "shell.execute_reply": "2021-12-26T17:24:16.636023Z",
     "shell.execute_reply.started": "2021-12-26T17:24:16.632298Z"
    }
   },
   "outputs": [
    {
     "name": "stdout",
     "output_type": "stream",
     "text": [
      "(6665, 11)\n",
      "(2627, 11)\n"
     ]
    }
   ],
   "source": [
    "# shape\n",
    "print(train.shape)\n",
    "print(test.shape)"
   ]
  },
  {
   "cell_type": "markdown",
   "metadata": {},
   "source": [
    "**Check for missing values in test data**"
   ]
  },
  {
   "cell_type": "code",
   "execution_count": 35,
   "metadata": {
    "ExecuteTime": {
     "end_time": "2021-12-26T18:35:25.952784Z",
     "start_time": "2021-12-26T18:35:25.928983Z"
    },
    "execution": {
     "iopub.execute_input": "2021-12-26T17:24:16.639462Z",
     "iopub.status.busy": "2021-12-26T17:24:16.638725Z",
     "iopub.status.idle": "2021-12-26T17:24:16.658035Z",
     "shell.execute_reply": "2021-12-26T17:24:16.656849Z",
     "shell.execute_reply.started": "2021-12-26T17:24:16.639414Z"
    }
   },
   "outputs": [
    {
     "data": {
      "text/plain": [
       "ID                   0\n",
       "Gender               0\n",
       "Ever_Married        50\n",
       "Age                  0\n",
       "Graduated           24\n",
       "Profession          38\n",
       "Work_Experience    269\n",
       "Spending_Score       0\n",
       "Family_Size        113\n",
       "Var_1               32\n",
       "Segmentation         0\n",
       "dtype: int64"
      ]
     },
     "execution_count": 35,
     "metadata": {},
     "output_type": "execute_result"
    }
   ],
   "source": [
    "test.isnull().sum()"
   ]
  },
  {
   "cell_type": "code",
   "execution_count": 36,
   "metadata": {
    "ExecuteTime": {
     "end_time": "2021-12-26T18:35:25.979454Z",
     "start_time": "2021-12-26T18:35:25.960652Z"
    },
    "execution": {
     "iopub.execute_input": "2021-12-26T17:24:16.659785Z",
     "iopub.status.busy": "2021-12-26T17:24:16.659549Z",
     "iopub.status.idle": "2021-12-26T17:24:16.676105Z",
     "shell.execute_reply": "2021-12-26T17:24:16.675456Z",
     "shell.execute_reply.started": "2021-12-26T17:24:16.659759Z"
    }
   },
   "outputs": [
    {
     "data": {
      "text/plain": [
       "ID                 0\n",
       "Gender             0\n",
       "Ever_Married       0\n",
       "Age                0\n",
       "Graduated          0\n",
       "Profession         0\n",
       "Work_Experience    0\n",
       "Spending_Score     0\n",
       "Family_Size        0\n",
       "Var_1              0\n",
       "Segmentation       0\n",
       "dtype: int64"
      ]
     },
     "execution_count": 36,
     "metadata": {},
     "output_type": "execute_result"
    }
   ],
   "source": [
    "# drop missing values\n",
    "test.dropna(inplace = True)\n",
    "test.isnull().sum()"
   ]
  },
  {
   "cell_type": "code",
   "execution_count": 37,
   "metadata": {
    "ExecuteTime": {
     "end_time": "2021-12-26T18:35:26.010850Z",
     "start_time": "2021-12-26T18:35:25.987335Z"
    },
    "execution": {
     "iopub.execute_input": "2021-12-26T17:28:38.242837Z",
     "iopub.status.busy": "2021-12-26T17:28:38.242429Z",
     "iopub.status.idle": "2021-12-26T17:28:38.257774Z",
     "shell.execute_reply": "2021-12-26T17:28:38.256770Z",
     "shell.execute_reply.started": "2021-12-26T17:28:38.242807Z"
    }
   },
   "outputs": [
    {
     "name": "stdout",
     "output_type": "stream",
     "text": [
      "['ID', 'Age', 'Work_Experience', 'Family_Size', 'Segmentation', 'Gender_Female', 'Gender_Male', 'Ever_Married_No', 'Ever_Married_Yes', 'Graduated_No', 'Graduated_Yes', 'Profession_Artist', 'Profession_Doctor', 'Profession_Engineer', 'Profession_Entertainment', 'Profession_Executive', 'Profession_Healthcare', 'Profession_Homemaker', 'Profession_Lawyer', 'Profession_Marketing', 'Spending_Score_Average', 'Spending_Score_High', 'Spending_Score_Low', 'Var_1_Cat_1', 'Var_1_Cat_2', 'Var_1_Cat_3', 'Var_1_Cat_4', 'Var_1_Cat_5', 'Var_1_Cat_6', 'Var_1_Cat_7']\n"
     ]
    }
   ],
   "source": [
    "cat = ['Gender', 'Ever_Married', 'Graduated', 'Profession', 'Spending_Score', 'Var_1']\n",
    "df_dummies_test = pd.get_dummies(test,columns=cat)\n",
    "print(df_dummies_test.columns.tolist())"
   ]
  },
  {
   "cell_type": "code",
   "execution_count": 38,
   "metadata": {
    "ExecuteTime": {
     "end_time": "2021-12-26T18:35:26.021408Z",
     "start_time": "2021-12-26T18:35:26.014238Z"
    },
    "execution": {
     "iopub.execute_input": "2021-12-26T17:28:41.010847Z",
     "iopub.status.busy": "2021-12-26T17:28:41.010571Z",
     "iopub.status.idle": "2021-12-26T17:28:41.017416Z",
     "shell.execute_reply": "2021-12-26T17:28:41.016704Z",
     "shell.execute_reply.started": "2021-12-26T17:28:41.010818Z"
    }
   },
   "outputs": [],
   "source": [
    "le = LabelEncoder()\n",
    "df_dummies_test['Segmentation_label'] = le.fit_transform(df_dummies_test['Segmentation'])"
   ]
  },
  {
   "cell_type": "code",
   "execution_count": 39,
   "metadata": {
    "ExecuteTime": {
     "end_time": "2021-12-26T18:35:26.031685Z",
     "start_time": "2021-12-26T18:35:26.023085Z"
    },
    "execution": {
     "iopub.execute_input": "2021-12-26T17:28:46.416369Z",
     "iopub.status.busy": "2021-12-26T17:28:46.416060Z",
     "iopub.status.idle": "2021-12-26T17:28:46.422901Z",
     "shell.execute_reply": "2021-12-26T17:28:46.422248Z",
     "shell.execute_reply.started": "2021-12-26T17:28:46.416336Z"
    }
   },
   "outputs": [
    {
     "data": {
      "text/plain": [
       "0       1\n",
       "1       0\n",
       "3       1\n",
       "5       2\n",
       "6       3\n",
       "       ..\n",
       "2621    3\n",
       "2622    1\n",
       "2623    0\n",
       "2625    2\n",
       "2626    0\n",
       "Name: Segmentation_label, Length: 2154, dtype: int64"
      ]
     },
     "execution_count": 39,
     "metadata": {},
     "output_type": "execute_result"
    }
   ],
   "source": [
    "df_dummies_test['Segmentation_label']"
   ]
  },
  {
   "cell_type": "markdown",
   "metadata": {},
   "source": [
    "**Fitting the model on test data**"
   ]
  },
  {
   "cell_type": "code",
   "execution_count": 40,
   "metadata": {
    "ExecuteTime": {
     "end_time": "2021-12-26T18:35:26.680209Z",
     "start_time": "2021-12-26T18:35:26.035180Z"
    },
    "execution": {
     "iopub.execute_input": "2021-12-26T17:37:30.271881Z",
     "iopub.status.busy": "2021-12-26T17:37:30.271522Z",
     "iopub.status.idle": "2021-12-26T17:37:30.961874Z",
     "shell.execute_reply": "2021-12-26T17:37:30.960960Z",
     "shell.execute_reply.started": "2021-12-26T17:37:30.271851Z"
    }
   },
   "outputs": [
    {
     "data": {
      "text/html": [
       "<div>\n",
       "<style scoped>\n",
       "    .dataframe tbody tr th:only-of-type {\n",
       "        vertical-align: middle;\n",
       "    }\n",
       "\n",
       "    .dataframe tbody tr th {\n",
       "        vertical-align: top;\n",
       "    }\n",
       "\n",
       "    .dataframe thead th {\n",
       "        text-align: right;\n",
       "    }\n",
       "</style>\n",
       "<table border=\"1\" class=\"dataframe\">\n",
       "  <thead>\n",
       "    <tr style=\"text-align: right;\">\n",
       "      <th></th>\n",
       "      <th>Actual</th>\n",
       "      <th>Predicted</th>\n",
       "    </tr>\n",
       "  </thead>\n",
       "  <tbody>\n",
       "    <tr>\n",
       "      <th>0</th>\n",
       "      <td>1</td>\n",
       "      <td>0</td>\n",
       "    </tr>\n",
       "    <tr>\n",
       "      <th>1</th>\n",
       "      <td>0</td>\n",
       "      <td>0</td>\n",
       "    </tr>\n",
       "    <tr>\n",
       "      <th>3</th>\n",
       "      <td>1</td>\n",
       "      <td>2</td>\n",
       "    </tr>\n",
       "    <tr>\n",
       "      <th>5</th>\n",
       "      <td>2</td>\n",
       "      <td>2</td>\n",
       "    </tr>\n",
       "    <tr>\n",
       "      <th>6</th>\n",
       "      <td>3</td>\n",
       "      <td>0</td>\n",
       "    </tr>\n",
       "    <tr>\n",
       "      <th>...</th>\n",
       "      <td>...</td>\n",
       "      <td>...</td>\n",
       "    </tr>\n",
       "    <tr>\n",
       "      <th>2621</th>\n",
       "      <td>3</td>\n",
       "      <td>0</td>\n",
       "    </tr>\n",
       "    <tr>\n",
       "      <th>2622</th>\n",
       "      <td>1</td>\n",
       "      <td>3</td>\n",
       "    </tr>\n",
       "    <tr>\n",
       "      <th>2623</th>\n",
       "      <td>0</td>\n",
       "      <td>0</td>\n",
       "    </tr>\n",
       "    <tr>\n",
       "      <th>2625</th>\n",
       "      <td>2</td>\n",
       "      <td>1</td>\n",
       "    </tr>\n",
       "    <tr>\n",
       "      <th>2626</th>\n",
       "      <td>0</td>\n",
       "      <td>3</td>\n",
       "    </tr>\n",
       "  </tbody>\n",
       "</table>\n",
       "<p>2154 rows × 2 columns</p>\n",
       "</div>"
      ],
      "text/plain": [
       "      Actual  Predicted\n",
       "0          1          0\n",
       "1          0          0\n",
       "3          1          2\n",
       "5          2          2\n",
       "6          3          0\n",
       "...      ...        ...\n",
       "2621       3          0\n",
       "2622       1          3\n",
       "2623       0          0\n",
       "2625       2          1\n",
       "2626       0          3\n",
       "\n",
       "[2154 rows x 2 columns]"
      ]
     },
     "execution_count": 40,
     "metadata": {},
     "output_type": "execute_result"
    }
   ],
   "source": [
    "X_test_new = df_dummies_test.drop(['Segmentation','ID','Segmentation_label'],axis = 1)\n",
    "y_test_new = df_dummies_test['Segmentation_label']\n",
    "y_pred_new = rf.predict(X_test_new)\n",
    "y_new = pd.DataFrame({'Actual':y_test_new,'Predicted': y_pred_new })\n",
    "y_new"
   ]
  },
  {
   "cell_type": "code",
   "execution_count": 41,
   "metadata": {
    "ExecuteTime": {
     "end_time": "2021-12-26T18:35:26.689891Z",
     "start_time": "2021-12-26T18:35:26.682326Z"
    },
    "execution": {
     "iopub.execute_input": "2021-12-26T17:46:18.098671Z",
     "iopub.status.busy": "2021-12-26T17:46:18.098379Z",
     "iopub.status.idle": "2021-12-26T17:46:18.105832Z",
     "shell.execute_reply": "2021-12-26T17:46:18.105192Z",
     "shell.execute_reply.started": "2021-12-26T17:46:18.098642Z"
    }
   },
   "outputs": [],
   "source": [
    "y_new['outcome'] = np.where( y_new['Actual'] == y_new['Predicted'] , 'Correct', 'Incorrect')"
   ]
  },
  {
   "cell_type": "markdown",
   "metadata": {},
   "source": []
  },
  {
   "cell_type": "code",
   "execution_count": 42,
   "metadata": {
    "ExecuteTime": {
     "end_time": "2021-12-26T18:35:26.713581Z",
     "start_time": "2021-12-26T18:35:26.695763Z"
    },
    "execution": {
     "iopub.execute_input": "2021-12-26T18:15:05.672652Z",
     "iopub.status.busy": "2021-12-26T18:15:05.672319Z",
     "iopub.status.idle": "2021-12-26T18:15:05.686958Z",
     "shell.execute_reply": "2021-12-26T18:15:05.686298Z",
     "shell.execute_reply.started": "2021-12-26T18:15:05.672618Z"
    }
   },
   "outputs": [
    {
     "data": {
      "text/html": [
       "<div>\n",
       "<style scoped>\n",
       "    .dataframe tbody tr th:only-of-type {\n",
       "        vertical-align: middle;\n",
       "    }\n",
       "\n",
       "    .dataframe tbody tr th {\n",
       "        vertical-align: top;\n",
       "    }\n",
       "\n",
       "    .dataframe thead th {\n",
       "        text-align: right;\n",
       "    }\n",
       "</style>\n",
       "<table border=\"1\" class=\"dataframe\">\n",
       "  <thead>\n",
       "    <tr style=\"text-align: right;\">\n",
       "      <th></th>\n",
       "      <th>Actual</th>\n",
       "      <th>Predicted</th>\n",
       "      <th>outcome</th>\n",
       "    </tr>\n",
       "  </thead>\n",
       "  <tbody>\n",
       "    <tr>\n",
       "      <th>0</th>\n",
       "      <td>1</td>\n",
       "      <td>0</td>\n",
       "      <td>Incorrect</td>\n",
       "    </tr>\n",
       "    <tr>\n",
       "      <th>1</th>\n",
       "      <td>0</td>\n",
       "      <td>0</td>\n",
       "      <td>Correct</td>\n",
       "    </tr>\n",
       "    <tr>\n",
       "      <th>3</th>\n",
       "      <td>1</td>\n",
       "      <td>2</td>\n",
       "      <td>Incorrect</td>\n",
       "    </tr>\n",
       "    <tr>\n",
       "      <th>5</th>\n",
       "      <td>2</td>\n",
       "      <td>2</td>\n",
       "      <td>Correct</td>\n",
       "    </tr>\n",
       "    <tr>\n",
       "      <th>6</th>\n",
       "      <td>3</td>\n",
       "      <td>0</td>\n",
       "      <td>Incorrect</td>\n",
       "    </tr>\n",
       "    <tr>\n",
       "      <th>...</th>\n",
       "      <td>...</td>\n",
       "      <td>...</td>\n",
       "      <td>...</td>\n",
       "    </tr>\n",
       "    <tr>\n",
       "      <th>2621</th>\n",
       "      <td>3</td>\n",
       "      <td>0</td>\n",
       "      <td>Incorrect</td>\n",
       "    </tr>\n",
       "    <tr>\n",
       "      <th>2622</th>\n",
       "      <td>1</td>\n",
       "      <td>3</td>\n",
       "      <td>Incorrect</td>\n",
       "    </tr>\n",
       "    <tr>\n",
       "      <th>2623</th>\n",
       "      <td>0</td>\n",
       "      <td>0</td>\n",
       "      <td>Correct</td>\n",
       "    </tr>\n",
       "    <tr>\n",
       "      <th>2625</th>\n",
       "      <td>2</td>\n",
       "      <td>1</td>\n",
       "      <td>Incorrect</td>\n",
       "    </tr>\n",
       "    <tr>\n",
       "      <th>2626</th>\n",
       "      <td>0</td>\n",
       "      <td>3</td>\n",
       "      <td>Incorrect</td>\n",
       "    </tr>\n",
       "  </tbody>\n",
       "</table>\n",
       "<p>2154 rows × 3 columns</p>\n",
       "</div>"
      ],
      "text/plain": [
       "      Actual  Predicted    outcome\n",
       "0          1          0  Incorrect\n",
       "1          0          0    Correct\n",
       "3          1          2  Incorrect\n",
       "5          2          2    Correct\n",
       "6          3          0  Incorrect\n",
       "...      ...        ...        ...\n",
       "2621       3          0  Incorrect\n",
       "2622       1          3  Incorrect\n",
       "2623       0          0    Correct\n",
       "2625       2          1  Incorrect\n",
       "2626       0          3  Incorrect\n",
       "\n",
       "[2154 rows x 3 columns]"
      ]
     },
     "execution_count": 42,
     "metadata": {},
     "output_type": "execute_result"
    }
   ],
   "source": [
    "y_new"
   ]
  },
  {
   "cell_type": "code",
   "execution_count": 43,
   "metadata": {
    "ExecuteTime": {
     "end_time": "2021-12-26T18:35:26.722271Z",
     "start_time": "2021-12-26T18:35:26.716307Z"
    }
   },
   "outputs": [],
   "source": [
    "# Random forest is the best performing model which gives an accuracy of 52.47% using cross validation."
   ]
  }
 ],
 "metadata": {
  "hide_input": false,
  "kernelspec": {
   "display_name": "Python 3 (ipykernel)",
   "language": "python",
   "name": "python3"
  },
  "language_info": {
   "codemirror_mode": {
    "name": "ipython",
    "version": 3
   },
   "file_extension": ".py",
   "mimetype": "text/x-python",
   "name": "python",
   "nbconvert_exporter": "python",
   "pygments_lexer": "ipython3",
   "version": "3.7.4"
  },
  "toc": {
   "base_numbering": 1,
   "nav_menu": {},
   "number_sections": true,
   "sideBar": true,
   "skip_h1_title": false,
   "title_cell": "Table of Contents",
   "title_sidebar": "Contents",
   "toc_cell": false,
   "toc_position": {},
   "toc_section_display": true,
   "toc_window_display": false
  },
  "varInspector": {
   "cols": {
    "lenName": 16,
    "lenType": 16,
    "lenVar": 40
   },
   "kernels_config": {
    "python": {
     "delete_cmd_postfix": "",
     "delete_cmd_prefix": "del ",
     "library": "var_list.py",
     "varRefreshCmd": "print(var_dic_list())"
    },
    "r": {
     "delete_cmd_postfix": ") ",
     "delete_cmd_prefix": "rm(",
     "library": "var_list.r",
     "varRefreshCmd": "cat(var_dic_list()) "
    }
   },
   "types_to_exclude": [
    "module",
    "function",
    "builtin_function_or_method",
    "instance",
    "_Feature"
   ],
   "window_display": false
  }
 },
 "nbformat": 4,
 "nbformat_minor": 4
}
